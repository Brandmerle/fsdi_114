{
 "cells": [
  {
   "cell_type": "markdown",
   "id": "1b9e6c0f-1411-4453-9f85-ce53dc843390",
   "metadata": {},
   "source": [
    "# Stacks\n",
    "\n",
    "a *stack* is an ordered collection of elements where items are added and removed from the same end, commonly known as the *top*"
   ]
  },
  {
   "cell_type": "markdown",
   "id": "ad57405a-6377-4e22-a4b6-4700bbf4ffd8",
   "metadata": {},
   "source": [
    "# simplified implementation of Stack (relying on built-ins)\n",
    "\n",
    "class Stack:\n",
    "    def __init__(self):\n",
    "        self.items = []. #this is a python3 list\n",
    "\n",
    "    def push(self, value):\n",
    "        self.items.append(value)\n",
    "\n",
    "    def pop(self)\n",
    "        return self.items.pop()\n",
    "\n",
    "    #Nice to have Methods\n",
    "    def peek(self):\n",
    "        return self.items[len(self.items)-1]\n",
    "\n",
    "    def is_empty(self):\n",
    "        return self.items ==[]\n",
    "\n",
    "    def size(self):\n",
    "        return len(self.items)\n",
    "        "
   ]
  },
  {
   "cell_type": "markdown",
   "id": "eb685f8b-ee15-459f-9559-3f7f3d4a4a76",
   "metadata": {},
   "source": [
    "#problem 1\n",
    "\n",
    "Create a function in python called 'invert_str' that receives a string as a parameter and returns it in inverted order as a result.\n",
    "\n",
    "## Examples\n",
    "\n",
    "rafael -> leafar\n",
    "earth -> htrae\n",
    "hello -> olleh\n",
    "world -> dlrow\n",
    "\n",
    "\n",
    "### Accceptance Criteria\n",
    "1. Your final solution *absoltuely must* make use of the stack class above\n",
    "2. You should, at a minimum , be able tor esent a design for your solution (pseudocode recommended, but you *can* use flowcharts)\n",
    "\n"
   ]
  },
  {
   "cell_type": "code",
   "execution_count": 1,
   "id": "476f8a49-e556-4274-b8bf-599c23b823bf",
   "metadata": {},
   "outputs": [],
   "source": [
    "\n",
    "    \n",
    "def invert_str(my_string):\n",
    "    stack = Stack()\n",
    "    for char in input_string:\n",
    "        s.push(char)\n",
    "\n",
    "    inverted_string = \"\"\n",
    "    while not s.is_empty():\n",
    "        inverted_string += s.pop()\n",
    "\n",
    "    return inverted_string\n",
    "\n",
    "    print(invert_str(\"world\"))\n"
   ]
  },
  {
   "cell_type": "code",
   "execution_count": null,
   "id": "39a1bcda-38ab-4201-8fa5-4cc816714265",
   "metadata": {},
   "outputs": [],
   "source": []
  },
  {
   "cell_type": "code",
   "execution_count": null,
   "id": "cd97f4f8-3a9a-4aea-96e9-670049c34572",
   "metadata": {},
   "outputs": [],
   "source": []
  }
 ],
 "metadata": {
  "kernelspec": {
   "display_name": "Python 3 (ipykernel)",
   "language": "python",
   "name": "python3"
  },
  "language_info": {
   "codemirror_mode": {
    "name": "ipython",
    "version": 3
   },
   "file_extension": ".py",
   "mimetype": "text/x-python",
   "name": "python",
   "nbconvert_exporter": "python",
   "pygments_lexer": "ipython3",
   "version": "3.13.1"
  }
 },
 "nbformat": 4,
 "nbformat_minor": 5
}
